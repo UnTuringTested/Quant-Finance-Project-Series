{
 "cells": [
  {
   "cell_type": "markdown",
   "id": "baa2782b",
   "metadata": {},
   "source": [
    "For this mini project, I initially created two portfolios, each with 3 stocks.\n",
    "\n",
    "Stocks within Portfolio 1 are more risky in the sense that they will each have high statistical volatility from the last 400 days. Stocks with high volatility have larger statistical value ranges, and are therefore less predictable. Stocks which are more volatile generally belong to companies that readily react to geological, sociological, political, or economic changes, such as tech companies.\n",
    "\n",
    "Portfolio 1 will consist of Tesla (TSLA), Amazon (AMZN), and Meta (META). \n",
    "\n",
    "Stocks within Portfolio 2 have lower individual volatility from the last 400 days, which means their statistical value ranges are more compact, and therefore, more predictable. The most stable stocks tend to be producers of consumer staples, as these goods are still bought through moderate social/economical instability. \n",
    "\n",
    "Portfolio 2 consists of Pepsi Co. (PEP), Unilever PLC (UL), and Colgate-Palmolive (CL)."
   ]
  },
  {
   "cell_type": "markdown",
   "id": "5f9f1475",
   "metadata": {},
   "source": [
    "The following block of code will load stock data from these six stocks and calculate some basic statistical information about them. "
   ]
  },
  {
   "cell_type": "code",
   "execution_count": 14,
   "id": "3aead043",
   "metadata": {},
   "outputs": [
    {
     "name": "stderr",
     "output_type": "stream",
     "text": [
      "[*********************100%***********************]  3 of 3 completed\n",
      "[*********************100%***********************]  3 of 3 completed\n"
     ]
    }
   ],
   "source": [
    "import numpy as np\n",
    "import matplotlib.pyplot as plt\n",
    "import pandas as pd\n",
    "import seaborn as sns\n",
    "from scipy.optimize import minimize\n",
    "import datetime as dt\n",
    "sns.set_style('darkgrid')\n",
    "import yfinance as yf\n",
    "\n",
    "P1Tickers = ['META', 'AMZN', 'TSLA']\n",
    "P2Tickers = ['UL', 'CL', 'PEP']\n",
    "\n",
    "\n",
    "start_date_str = '2025-6-26'\n",
    "start_date = dt.datetime.strptime(start_date_str, '%Y-%m-%d') - dt.timedelta(days=200*2)\n",
    "# ...existing code...\n",
    "end_date = '2025-6-26'\n",
    "\n",
    "P1stock = yf.download(P1Tickers, start = start_date, end =end_date, auto_adjust= True)\n",
    "P2stock = yf.download(P2Tickers, start = start_date, end =end_date, auto_adjust= True)\n",
    "\n",
    "# Calculate daily log returns for each stock\n",
    "# Log returns are calculated as the natural logarithm of the ratio of consecutive closing prices\n",
    "P1daily_log_returns = np.log(P1stock['Close']/P1stock['Close'].shift(1))\n",
    "P2daily_log_returns = np.log(P2stock['Close']/P2stock['Close'].shift(1))\n",
    "\n",
    "# Drop NaN values that result from the shift operation\n",
    "P1daily_log_returns = P1daily_log_returns.dropna()\n",
    "P2daily_log_returns = P2daily_log_returns.dropna()\n",
    "\n"
   ]
  },
  {
   "cell_type": "code",
   "execution_count": 15,
   "id": "6750c7d3",
   "metadata": {},
   "outputs": [
    {
     "name": "stdout",
     "output_type": "stream",
     "text": [
      "The volatility of META is 0.36053464588998174 and the expected return is 0.3889477262298897\n",
      "The volatility of AMZN is 0.33652228389386185 and the expected return is 0.13558231838542348\n",
      "The volatility of TSLA is 0.7151367202487359 and the expected return is 0.5540969507038962\n",
      "The volatility of UL is 0.18588183480187434 and the expected return is 0.1438936236328468\n",
      "The volatility of CL is 0.20339864187103235 and the expected return is -0.05093742014063865\n",
      "The volatility of PEP is 0.1959550792504242 and the expected return is -0.2859832885436205\n",
      "----------------------------------------\n",
      "If we equally invest in each stock in Portfolio 1, the expected return is 0.0014267552848137687 and the volatility is 0.4015492708124671\n",
      "If we equally invest in each stock in Portfolio 2, the expected return is -0.00025532683207858773 and the volatility is 0.1622368873347124\n"
     ]
    }
   ],
   "source": [
    "for x in P1Tickers:\n",
    "    print(\"The volatility of\", x, \"is\", P1daily_log_returns[x].std() * np.sqrt(252), \"and the expected return is\", P1daily_log_returns[x].mean() * 252)\n",
    "for x in P2Tickers:\n",
    "    print(\"The volatility of\", x, \"is\", P2daily_log_returns[x].std() * np.sqrt(252), \"and the expected return is\", P2daily_log_returns[x].mean() * 252)\n",
    "\n",
    "P1ex = 1/3*(P1daily_log_returns['AMZN']+ P1daily_log_returns['META'] + P1daily_log_returns['TSLA'])\n",
    "P2ex = 1/3*(P2daily_log_returns['UL']+ P2daily_log_returns['CL'] + P2daily_log_returns['PEP'])\n",
    "print('--'*20)\n",
    "print(\"If we equally invest in each stock in Portfolio 1, the expected return is\",P1ex.mean(), \"and the volatility is\", np.std(P1ex) * np.sqrt(252))\n",
    "print(\"If we equally invest in each stock in Portfolio 2, the expected return is\",P2ex.mean(), \"and the volatility is\", np.std(P2ex) * np.sqrt(252))"
   ]
  },
  {
   "cell_type": "markdown",
   "id": "11d83592",
   "metadata": {},
   "source": [
    "META, AMZN, TSLA, and UL are the only stocks with a positive expected return. All stocks in Portfolio 1 are expected to be profitable, but each has a higher volatility than all of the stocks in Portfolio 2, meaning their return values may swing further out from the expected values. Only 1 of the stocks in Portfolio 2 are expected to have profitable returns, but each has a relatively low volatility. If one invested in each portfolio into each stock equally, Portfolio 1 has is expected to be profitable but it has a high volatility. Portfolio 2, on the other hand, has an improved volatility compared to the individual stocks, but still expects loss. \n",
    "\n",
    "In the next block of code, I have created three additional portfolios: Portfolio 3, consisting of AMZN, TSLA, and UL; Portfolio 4, consisting of PEP, CL, and META; and Portfolio 5 consisting of all 6 stocks. I then optimized the portfolios to find the best investment schemes relative to minimizing risk. This demonstrates the effect of investment diversification, which is the idea of taking advantage of upward swings from high-volatility stocks but balance downward stocks with more stable stocks. \n",
    "\n",
    "In my 5 portfolios, I have enforced that each stock has at least 10% of the total investment. "
   ]
  },
  {
   "cell_type": "code",
   "execution_count": 16,
   "id": "408f74e2",
   "metadata": {},
   "outputs": [
    {
     "name": "stderr",
     "output_type": "stream",
     "text": [
      "[*********************100%***********************]  3 of 3 completed\n",
      "[*********************100%***********************]  3 of 3 completed\n",
      "[*********************100%***********************]  6 of 6 completed\n"
     ]
    },
    {
     "name": "stdout",
     "output_type": "stream",
     "text": [
      "Portfolio 1:\n",
      "META: Weight = 0.5585\n",
      "AMZN: Weight = 0.3415\n",
      "TSLA: Weight = 0.1000\n",
      "Expected Return: 0.26396564461572625\n",
      "The optimal volatility subject to the constraints is 0.3359731149859964\n",
      "\n",
      "Portfolio 2:\n",
      "UL: Weight = 0.1927\n",
      "CL: Weight = 0.3598\n",
      "PEP: Weight = 0.4474\n",
      "Expected Return: -0.04833251728355806\n",
      "The optimal volatility subject to the constraints is 0.16093372941264283\n",
      "\n",
      "Portfolio 3:\n",
      "UL: Weight = 0.1516\n",
      "AMZN: Weight = 0.1000\n",
      "TSLA: Weight = 0.7484\n",
      "Expected Return: 0.02991339255988197\n",
      "The optimal volatility subject to the constraints is 0.19142299970602356\n",
      "\n",
      "Portfolio 4:\n",
      "META: Weight = 0.4544\n",
      "CL: Weight = 0.2183\n",
      "PEP: Weight = 0.3273\n",
      "Expected Return: -0.10191125688931664\n",
      "The optimal volatility subject to the constraints is 0.1801696452548405\n",
      "\n",
      "Portfolio 5:\n",
      "UL: Weight = 0.1000\n",
      "AMZN: Weight = 0.2056\n",
      "TSLA: Weight = 0.1000\n",
      "META: Weight = 0.1288\n",
      "CL: Weight = 0.1000\n",
      "PEP: Weight = 0.3656\n",
      "Expected Return: -0.04379865821153424\n",
      "The optimal volatility subject to the constraints is 0.18557072107669642\n",
      "\n"
     ]
    }
   ],
   "source": [
    "\n",
    "P3Tickers = ['UL', 'AMZN', 'TSLA']\n",
    "P4Tickers = ['META', 'CL', 'PEP']\n",
    "P5Tickers = ['UL', 'AMZN', 'TSLA', 'META', 'CL', 'PEP']\n",
    "\n",
    "start_date = dt.datetime.today()-dt.timedelta(days = 200)\n",
    "end_date = dt.datetime.today()- dt.timedelta(days = 1)\n",
    "\n",
    "P3stock = yf.download(P3Tickers, start = start_date, end =end_date, auto_adjust= True)\n",
    "P4stock = yf.download(P4Tickers, start = start_date, end =end_date, auto_adjust= True)\n",
    "P5stock = yf.download(P5Tickers, start = start_date, end =end_date, auto_adjust= True)\n",
    "\n",
    "# Calculate daily log returns for each stock\n",
    "# Log returns are calculated as the natural logarithm of the ratio of consecutive closing prices\n",
    "P3daily_log_returns = np.log(P3stock['Close']/P3stock['Close'].shift(1))\n",
    "P4daily_log_returns = np.log(P4stock['Close']/P4stock['Close'].shift(1))\n",
    "P5daily_log_returns = np.log(P5stock['Close']/P5stock['Close'].shift(1))\n",
    "# Drop NaN values that result from the shift operation\n",
    "P3daily_log_returns = P3daily_log_returns.dropna()\n",
    "P4daily_log_returns = P4daily_log_returns.dropna()\n",
    "P5daily_log_returns = P5daily_log_returns.dropna()\n",
    "##Optimization \n",
    "# Number of assets\n",
    "n_assets = 3\n",
    "\n",
    "# Define an initial guess for asset weights (e.g., equal weights)\n",
    "initial_weights = np.array([1/n_assets] * n_assets)\n",
    "initial_weights_entire=np.array([1/6]* 6)\n",
    "\n",
    "\n",
    "# Define weight constraints\n",
    "#Sum of weights equals 1 \n",
    "#Allocate at least 10% of capital into each index in portfolio.\n",
    "constraints = ({'type': 'eq', 'fun': lambda weights: np.sum(weights)-1},\n",
    "               {'type': 'ineq', 'fun': lambda weights: min(weights)-.1})\n",
    "\n",
    "#Define covariance matrix for the assets in each portfolio.\n",
    "P1covariance_matrix = 252*((P1daily_log_returns).cov())\n",
    "P2covariance_matrix = 252*((P2daily_log_returns).cov())\n",
    "P3covariance_matrix = 252*((P3daily_log_returns).cov())\n",
    "P4covariance_matrix = 252*((P4daily_log_returns).cov())\n",
    "P5covariance_matrix = 252*((P5daily_log_returns).cov())\n",
    "\n",
    "\n",
    "# Define the objective functions to minimize portfolio variance\n",
    "def portfolio_volatility1(weights):\n",
    "    portfolio_std_dev = np.sqrt(np.dot(weights.T, np.dot(P1covariance_matrix, weights)))\n",
    "    return portfolio_std_dev\n",
    "\n",
    "def portfolio_volatility2(weights):\n",
    "    portfolio_std_dev = np.sqrt(np.dot(weights.T, np.dot(P2covariance_matrix, weights)))\n",
    "    return portfolio_std_dev\n",
    "\n",
    "def portfolio_volatility3(weights):\n",
    "    portfolio_std_dev = np.sqrt(np.dot(weights.T, np.dot(P3covariance_matrix, weights)))\n",
    "    return portfolio_std_dev\n",
    "\n",
    "def portfolio_volatility4(weights):\n",
    "    portfolio_std_dev = np.sqrt(np.dot(weights.T, np.dot(P4covariance_matrix, weights)))\n",
    "    return portfolio_std_dev\n",
    "\n",
    "def portfolio_volatility5(weights):\n",
    "    portfolio_std_dev = np.sqrt(np.dot(weights.T, np.dot(P5covariance_matrix, weights)))\n",
    "    return portfolio_std_dev\n",
    "\n",
    "\n",
    "# Run the optimization to find the optimal weights\n",
    "results =  [minimize(portfolio_volatility1, initial_weights, constraints=constraints), minimize(portfolio_volatility2, initial_weights, constraints=constraints), minimize(portfolio_volatility3, initial_weights, constraints=constraints),\n",
    "minimize(portfolio_volatility4, initial_weights, constraints=constraints),minimize(portfolio_volatility5, initial_weights_entire, constraints=constraints)]\n",
    "\n",
    "Tickers = [P1Tickers, P2Tickers, P3Tickers, P4Tickers, P5Tickers]\n",
    "\n",
    "\n",
    "# Optimal asset weights\n",
    "optimal_weights = [results[0].x, results[1].x, results[2].x, results[3].x, results[4].x]\n",
    "optimized_volatility = [results[0].fun, results[1].fun, results[2].fun, results[3].fun, results[4].fun]\n",
    "daily_log_returns = [P1daily_log_returns, P2daily_log_returns, P3daily_log_returns, P4daily_log_returns, P5daily_log_returns]\n",
    "# Print the results\n",
    "\n",
    "for i in range(5):\n",
    "    print(f\"Portfolio {i+1}:\")\n",
    "    for ticker, weight in zip(Tickers[i], optimal_weights[i]):\n",
    "        print(f\"{ticker}: Weight = {weight:.4f}\")\n",
    "    print(\"Expected Return:\", np.sum(optimal_weights[i] * daily_log_returns[i].mean()) * 252)\n",
    "    print(f'The optimal volatility subject to the constraints is {optimized_volatility[i]}\\n')\n"
   ]
  },
  {
   "cell_type": "code",
   "execution_count": 17,
   "id": "f45a8b73",
   "metadata": {},
   "outputs": [
    {
     "data": {
      "image/png": "[encoded data removed]",
      "text/plain": [
       "<Figure size 800x500 with 1 Axes>"
      ]
     },
     "metadata": {},
     "output_type": "display_data"
    }
   ],
   "source": [
    "import matplotlib.pyplot as plt \n",
    "\n",
    "# Calculate expected annual profits for each portfolio\n",
    "expected_profits = [np.sum(optimal_weights[i] * daily_log_returns[i].mean()) * 252 for i in range(5)]\n",
    "portfolio_labels = ['3 riskiest', '3 least risky', '2 riskiest, \\n1 less risky', '2 least risky, \\n 1 risky', 'all stocks']\n",
    "\n",
    "plt.figure(figsize=(8, 5))\n",
    "plt.bar(portfolio_labels, expected_profits, color='mediumseagreen', edgecolor='black', alpha = .5, label= 'Expected portfolio annual profit')\n",
    "plt.title('Expected Annual Profit and Volatility of each Portfolio')\n",
    "plt.scatter(portfolio_labels, optimized_volatility, color='blue', marker='o', linewidth=2, label='Portfolio Volatility (Std Dev)')\n",
    "plt.legend()\n",
    "plt.xlabel('\\n Portfolios')\n",
    "plt.ylabel('Expected Annual Profit')\n",
    "plt.grid(axis='y', linestyle='--', alpha=0.7)\n",
    "plt.axhline(0, color='red', linewidth=1.5, linestyle='--')\n",
    "plt.show()"
   ]
  },
  {
   "cell_type": "markdown",
   "id": "7f207095",
   "metadata": {},
   "source": [
    "The results above clearly indicate that mixing high and low risk stocks cuts down the portfolio volatility. If one were looking for a profitable portfolio with relatively low volatility, Portfolio 3 would be the ideal choice. While it is expected to be the most profitable, Portfolio 1 has a much larger volatility, and is therefore more risky than Portfolio 3."
   ]
  }
 ],
 "metadata": {
  "kernelspec": {
   "display_name": "Python 3",
   "language": "python",
   "name": "python3"
  },
  "language_info": {
   "codemirror_mode": {
    "name": "ipython",
    "version": 3
   },
   "file_extension": ".py",
   "mimetype": "text/x-python",
   "name": "python",
   "nbconvert_exporter": "python",
   "pygments_lexer": "ipython3",
   "version": "3.13.5"
  }
 },
 "nbformat": 4,
 "nbformat_minor": 5
}
