{
 "cells": [
  {
   "cell_type": "markdown",
   "id": "baa2782b",
   "metadata": {},
   "source": [
    "For this mini project, I initially created two portfolios, each with 3 stocks.\n",
    "\n",
    "Stocks within Portfolio 1 are more risky in the sense that they will each have high statistical volatility from the last 200 days. Stocks with high volatility have larger statistical value ranges, and are therefore less predictable. Stocks which are more volatile generally belong to companies that readily react to geological, sociological, political, or economic changes, such as tech companies.\n",
    "\n",
    "Portfolio 1 will consist of Tesla (TSLA), Amazon (AMZN), and Meta (META). \n",
    "\n",
    "Stocks within Portfolio 2 have lower individual volatility from the last 200 days, which means their statistical value ranges are more compact, and therefore, more predictable. The most stable stocks tend to be producers of consumer staples, as these goods are still bought through moderate social/economical instability. \n",
    "\n",
    "Portfolio 2 consists of Pepsi Co. (PEP), Unilever PLC (UL), and Colgate-Palmolive (CL)."
   ]
  },
  {
   "cell_type": "markdown",
   "id": "5f9f1475",
   "metadata": {},
   "source": [
    "The following block of code will load stock data from these six stocks and calculate some basic statistical information about them. "
   ]
  },
  {
   "cell_type": "code",
   "execution_count": 2,
   "id": "3aead043",
   "metadata": {},
   "outputs": [
    {
     "name": "stderr",
     "output_type": "stream",
     "text": [
      "C:\\Users\\morga\\AppData\\Local\\Temp\\ipykernel_2992\\2730912928.py:16: FutureWarning: YF.download() has changed argument auto_adjust default to True\n",
      "  P1stock = yf.download(P1Tickers, start = start_date, end =end_date)\n",
      "[*********************100%***********************]  3 of 3 completed\n",
      "C:\\Users\\morga\\AppData\\Local\\Temp\\ipykernel_2992\\2730912928.py:17: FutureWarning: YF.download() has changed argument auto_adjust default to True\n",
      "  P2stock = yf.download(P2Tickers, start = start_date, end =end_date)\n",
      "[*********************100%***********************]  3 of 3 completed\n"
     ]
    }
   ],
   "source": [
    "import numpy as np\n",
    "import matplotlib.pyplot as plt\n",
    "import pandas as pd\n",
    "import seaborn as sns\n",
    "from scipy.optimize import minimize\n",
    "import datetime as dt\n",
    "sns.set_style('darkgrid')\n",
    "import yfinance as yf\n",
    "\n",
    "P1Tickers = ['META', 'AMZN', 'TSLA']\n",
    "P2Tickers = ['UL', 'CL', 'PEP']\n",
    "\n",
    "start_date = dt.datetime.today()-dt.timedelta(days = 200)\n",
    "end_date = dt.datetime.today()- dt.timedelta(days = 1)\n",
    "\n",
    "P1stock = yf.download(P1Tickers, start = start_date, end =end_date)\n",
    "P2stock = yf.download(P2Tickers, start = start_date, end =end_date)\n",
    "\n",
    "# Calculate daily log returns for each stock\n",
    "# Log returns are calculated as the natural logarithm of the ratio of consecutive closing prices\n",
    "P1daily_log_returns = np.log(P1stock['Close']/P1stock['Close'].shift(1))\n",
    "P2daily_log_returns = np.log(P2stock['Close']/P2stock['Close'].shift(1))\n",
    "\n",
    "# Drop NaN values that result from the shift operation\n",
    "P1daily_log_returns = P1daily_log_returns.dropna()\n",
    "P2daily_log_returns = P2daily_log_returns.dropna()\n",
    "\n"
   ]
  },
  {
   "cell_type": "code",
   "execution_count": null,
   "id": "6750c7d3",
   "metadata": {},
   "outputs": [
    {
     "name": "stdout",
     "output_type": "stream",
     "text": [
      "The volatility of META is 0.4184832558207357 and the expected return is 0.28710790691924076\n",
      "The volatility of AMZN is 0.37141377045713425 and the expected return is -0.11505096705759102\n",
      "The volatility of TSLA is 0.7709309056175804 and the expected return is -0.25632215037115663\n",
      "The volatility of UL is 0.21104335562230625 and the expected return is 0.14121478570090493\n",
      "The volatility of CL is 0.23111005259086048 and the expected return is -0.07833384420375458\n",
      "The volatility of PEP is 0.22676195307757138 and the expected return is -0.33453758006004525\n",
      "----------------------------------------\n",
      "If we equally invest in each stock in Portfolio 1, the expected return is -0.0001114619186633691 and the volatility is 0.4646022483444778\n",
      "If we equally invest in each stock in Portfolio 2, the expected return is -0.00035933417799324726 and the volatility is 0.18882468737443645\n"
     ]
    },
    {
     "ename": "",
     "evalue": "",
     "output_type": "error",
     "traceback": [
      "\u001b[1;31mThe Kernel crashed while executing code in the current cell or a previous cell. \n",
      "\u001b[1;31mPlease review the code in the cell(s) to identify a possible cause of the failure. \n",
      "\u001b[1;31mClick <a href='https://aka.ms/vscodeJupyterKernelCrash'>here</a> for more info. \n",
      "\u001b[1;31mView Jupyter <a href='command:jupyter.viewOutput'>log</a> for further details."
     ]
    }
   ],
   "source": [
    "for x in P1Tickers:\n",
    "    print(\"The volatility of\", x, \"is\", P1daily_log_returns[x].std() * np.sqrt(252), \"and the expected return is\", P1daily_log_returns[x].mean() * 252)\n",
    "for x in P2Tickers:\n",
    "    print(\"The volatility of\", x, \"is\", P2daily_log_returns[x].std() * np.sqrt(252), \"and the expected return is\", P2daily_log_returns[x].mean() * 252)\n",
    "\n",
    "P1ex = 1/3*(P1daily_log_returns['AMZN']+ P1daily_log_returns['META'] + P1daily_log_returns['TSLA'])\n",
    "P2ex = 1/3*(P2daily_log_returns['UL']+ P2daily_log_returns['CL'] + P2daily_log_returns['PEP'])\n",
    "print('--'*20)\n",
    "print(\"If we equally invest in each stock in Portfolio 1, the expected return is\",P1ex.mean(), \"and the volatility is\", np.std(P1ex) * np.sqrt(252))\n",
    "print(\"If we equally invest in each stock in Portfolio 2, the expected return is\",P2ex.mean(), \"and the volatility is\", np.std(P2ex) * np.sqrt(252))"
   ]
  },
  {
   "cell_type": "markdown",
   "id": "11d83592",
   "metadata": {},
   "source": [
    "META, AMZN, and UL are the only stocks with a positive expected return. 2 out of 3 stocks in Portfolio 1 are expected to be profitable, but each has a higher volatility than all of the stocks in Portfolio 2, meaning their return values may swing further out from the expected values. Only 1 of the stocks in Portfolio 2 are expected to have profitable returns, but each has a relatively low volatility. If one invested in each portfolio into each stock equally, Portfolio 1 has is expected to be profitable but it has a volatility higher than all of the individual stocks. Portfolio 2, on the other hand, has a vastly improved volatility but still expects loss. \n",
    "\n",
    "In the next block of code, I have created three additional portfolios: Portfolio 3, consisting of AMZN, TSLA, and UL; Portfolio 4, consisting of PEP, CL, and META; and Portfolio 5 consisting of all 6 stocks. I then optimized the portfolios to find the best investment schemes relative to minimizing risk. This demonstrates the effect of investment diversification, which is the idea of taking advantage of upward swings from high-volatility stocks but balance downward stocks with more stable stocks. \n",
    "\n",
    "In my 5 portfolios, I have enforced that each stock has at least 10% of the total investment. "
   ]
  },
  {
   "cell_type": "code",
   "execution_count": 20,
   "id": "408f74e2",
   "metadata": {},
   "outputs": [
    {
     "name": "stderr",
     "output_type": "stream",
     "text": [
      "C:\\Users\\morga\\AppData\\Local\\Temp\\ipykernel_14392\\1887597005.py:8: FutureWarning: YF.download() has changed argument auto_adjust default to True\n",
      "  P3stock = yf.download(P3Tickers, start = start_date, end =end_date)\n",
      "[*********************100%***********************]  3 of 3 completed\n",
      "C:\\Users\\morga\\AppData\\Local\\Temp\\ipykernel_14392\\1887597005.py:9: FutureWarning: YF.download() has changed argument auto_adjust default to True\n",
      "  P4stock = yf.download(P4Tickers, start = start_date, end =end_date)\n",
      "[*********************100%***********************]  3 of 3 completed\n",
      "C:\\Users\\morga\\AppData\\Local\\Temp\\ipykernel_14392\\1887597005.py:10: FutureWarning: YF.download() has changed argument auto_adjust default to True\n",
      "  P5stock = yf.download(P5Tickers, start = start_date, end =end_date)\n",
      "[*********************100%***********************]  6 of 6 completed\n"
     ]
    },
    {
     "name": "stdout",
     "output_type": "stream",
     "text": [
      "Portfolio 1:\n",
      "META: Weight = 0.7962\n",
      "AMZN: Weight = 0.1038\n",
      "TSLA: Weight = 0.1000\n",
      "Expected Return: 0.05341055359953396\n",
      "The optimal volatility subject to the constraints is 0.3912154135934363\n",
      "\n",
      "Portfolio 2:\n",
      "UL: Weight = 0.1630\n",
      "CL: Weight = 0.3372\n",
      "PEP: Weight = 0.4998\n",
      "Expected Return: -0.08210388648293922\n",
      "The optimal volatility subject to the constraints is 0.18627963166380282\n",
      "\n",
      "Portfolio 3:\n",
      "UL: Weight = 0.1438\n",
      "AMZN: Weight = 0.1000\n",
      "TSLA: Weight = 0.7562\n",
      "Expected Return: 0.0844482633094605\n",
      "The optimal volatility subject to the constraints is 0.18784959165281087\n",
      "\n",
      "Portfolio 4:\n",
      "META: Weight = 0.4265\n",
      "CL: Weight = 0.2200\n",
      "PEP: Weight = 0.3535\n",
      "Expected Return: -0.10326092537140372\n",
      "The optimal volatility subject to the constraints is 0.17870269319597332\n",
      "\n",
      "Portfolio 5:\n",
      "UL: Weight = 0.0736\n",
      "AMZN: Weight = 0.0738\n",
      "TSLA: Weight = 0.0737\n",
      "META: Weight = 0.1085\n",
      "CL: Weight = 0.0736\n",
      "PEP: Weight = 0.5968\n",
      "Expected Return: 0.04221960618439694\n",
      "The optimal volatility subject to the constraints is 0.17386703641237217\n",
      "\n"
     ]
    }
   ],
   "source": [
    "\n",
    "P3Tickers = ['UL', 'AMZN', 'TSLA']\n",
    "P4Tickers = ['META', 'CL', 'PEP']\n",
    "P5Tickers = ['UL', 'AMZN', 'TSLA', 'META', 'CL', 'PEP']\n",
    "\n",
    "start_date = dt.datetime.today()-dt.timedelta(days = 200)\n",
    "end_date = dt.datetime.today()- dt.timedelta(days = 1)\n",
    "\n",
    "P3stock = yf.download(P3Tickers, start = start_date, end =end_date)\n",
    "P4stock = yf.download(P4Tickers, start = start_date, end =end_date)\n",
    "P5stock = yf.download(P5Tickers, start = start_date, end =end_date)\n",
    "\n",
    "# Calculate daily log returns for each stock\n",
    "# Log returns are calculated as the natural logarithm of the ratio of consecutive closing prices\n",
    "P3daily_log_returns = np.log(P3stock['Close']/P3stock['Close'].shift(1))\n",
    "P4daily_log_returns = np.log(P4stock['Close']/P4stock['Close'].shift(1))\n",
    "P5daily_log_returns = np.log(P5stock['Close']/P5stock['Close'].shift(1))\n",
    "# Drop NaN values that result from the shift operation\n",
    "P3daily_log_returns = P3daily_log_returns.dropna()\n",
    "P4daily_log_returns = P4daily_log_returns.dropna()\n",
    "P5daily_log_returns = P5daily_log_returns.dropna()\n",
    "##Optimization \n",
    "# Number of assets\n",
    "n_assets = 3\n",
    "\n",
    "# Define an initial guess for asset weights (e.g., equal weights)\n",
    "initial_weights = np.array([1/n_assets] * n_assets)\n",
    "initial_weights_entire=np.array([1/6]* 6)\n",
    "\n",
    "\n",
    "# Define weight constraints\n",
    "#Sum of weights equals 1 \n",
    "#Allocate at least 10% of capital into each index in portfolio.\n",
    "constraints = ({'type': 'eq', 'fun': lambda weights: np.sum(weights)-1},\n",
    "               {'type': 'ineq', 'fun': lambda weights: min(weights)-.1})\n",
    "\n",
    "#Define covariance matrix for the assets in each portfolio.\n",
    "P1covariance_matrix = 252*((P1daily_log_returns).cov())\n",
    "P2covariance_matrix = 252*((P2daily_log_returns).cov())\n",
    "P3covariance_matrix = 252*((P3daily_log_returns).cov())\n",
    "P4covariance_matrix = 252*((P4daily_log_returns).cov())\n",
    "P5covariance_matrix = 252*((P5daily_log_returns).cov())\n",
    "\n",
    "\n",
    "# Define the objective functions to minimize portfolio variance\n",
    "def portfolio_volatility1(weights):\n",
    "    portfolio_std_dev = np.sqrt(np.dot(weights.T, np.dot(P1covariance_matrix, weights)))\n",
    "    return portfolio_std_dev\n",
    "\n",
    "def portfolio_volatility2(weights):\n",
    "    portfolio_std_dev = np.sqrt(np.dot(weights.T, np.dot(P2covariance_matrix, weights)))\n",
    "    return portfolio_std_dev\n",
    "\n",
    "def portfolio_volatility3(weights):\n",
    "    portfolio_std_dev = np.sqrt(np.dot(weights.T, np.dot(P3covariance_matrix, weights)))\n",
    "    return portfolio_std_dev\n",
    "\n",
    "def portfolio_volatility4(weights):\n",
    "    portfolio_std_dev = np.sqrt(np.dot(weights.T, np.dot(P4covariance_matrix, weights)))\n",
    "    return portfolio_std_dev\n",
    "\n",
    "def portfolio_volatility5(weights):\n",
    "    portfolio_std_dev = np.sqrt(np.dot(weights.T, np.dot(P5covariance_matrix, weights)))\n",
    "    return portfolio_std_dev\n",
    "\n",
    "\n",
    "# Run the optimization to find the optimal weights\n",
    "results =  [minimize(portfolio_volatility1, initial_weights, constraints=constraints), minimize(portfolio_volatility2, initial_weights, constraints=constraints), minimize(portfolio_volatility3, initial_weights, constraints=constraints),\n",
    "minimize(portfolio_volatility4, initial_weights, constraints=constraints),minimize(portfolio_volatility5, initial_weights_entire, constraints=constraints)]\n",
    "\n",
    "Tickers = [P1Tickers, P2Tickers, P3Tickers, P4Tickers, P5Tickers]\n",
    "\n",
    "\n",
    "# Optimal asset weights\n",
    "optimal_weights = [results[0].x, results[1].x, results[2].x, results[3].x, results[4].x]\n",
    "optimized_volatility = [results[0].fun, results[1].fun, results[2].fun, results[3].fun, results[4].fun]\n",
    "daily_log_returns = [P1daily_log_returns, P2daily_log_returns, P3daily_log_returns, P4daily_log_returns, P5daily_log_returns]\n",
    "# Print the results\n",
    "\n",
    "for i in range(5):\n",
    "    print(f\"Portfolio {i+1}:\")\n",
    "    for ticker, weight in zip(Tickers[i], optimal_weights[i]):\n",
    "        print(f\"{ticker}: Weight = {weight:.4f}\")\n",
    "    print(\"Expected Return:\", np.sum(optimal_weights[i] * daily_log_returns[i].mean()) * 252)\n",
    "    print(f'The optimal volatility subject to the constraints is {optimized_volatility[i]}\\n')\n"
   ]
  },
  {
   "cell_type": "markdown",
   "id": "7f207095",
   "metadata": {},
   "source": [
    "The results above clearly indicate that mixing high and low risk stocks cuts down the portfolio volatility. If one were looking for a profitable portfolio with relatively low volatility, Portfolio 3 and Portfolio 5 have volatility lower than nearly all of the individual stocks and are each expected to be profitable. Portfolio 5 would be slightly riskier than Portfolio 3. "
   ]
  }
 ],
 "metadata": {
  "kernelspec": {
   "display_name": "Python 3",
   "language": "python",
   "name": "python3"
  },
  "language_info": {
   "codemirror_mode": {
    "name": "ipython",
    "version": 3
   },
   "file_extension": ".py",
   "mimetype": "text/x-python",
   "name": "python",
   "nbconvert_exporter": "python",
   "pygments_lexer": "ipython3",
   "version": "3.13.5"
  }
 },
 "nbformat": 4,
 "nbformat_minor": 5
}
